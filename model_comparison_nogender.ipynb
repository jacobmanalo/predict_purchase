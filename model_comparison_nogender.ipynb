{
 "cells": [
  {
   "cell_type": "code",
   "execution_count": 1,
   "id": "f435c08b",
   "metadata": {},
   "outputs": [],
   "source": [
    "from sklearn.model_selection import train_test_split\n",
    "from sklearn.linear_model import LogisticRegression\n",
    "from sklearn.preprocessing import StandardScaler, OneHotEncoder\n",
    "from sklearn.compose import ColumnTransformer\n",
    "from sklearn.pipeline import Pipeline\n",
    "import pandas as pd\n",
    "\n",
    "data = pd.read_csv(\"data/Customer_Data.csv\")\n",
    "\n",
    "# Drop User ID\n",
    "data = data.drop(\"User ID\", axis=1)\n",
    "data = data.drop(\"Gender\", axis=1)\n"
   ]
  },
  {
   "cell_type": "code",
   "execution_count": 2,
   "id": "7075930b",
   "metadata": {},
   "outputs": [
    {
     "data": {
      "text/html": [
       "<div>\n",
       "<style scoped>\n",
       "    .dataframe tbody tr th:only-of-type {\n",
       "        vertical-align: middle;\n",
       "    }\n",
       "\n",
       "    .dataframe tbody tr th {\n",
       "        vertical-align: top;\n",
       "    }\n",
       "\n",
       "    .dataframe thead th {\n",
       "        text-align: right;\n",
       "    }\n",
       "</style>\n",
       "<table border=\"1\" class=\"dataframe\">\n",
       "  <thead>\n",
       "    <tr style=\"text-align: right;\">\n",
       "      <th></th>\n",
       "      <th>Age</th>\n",
       "      <th>EstimatedSalary</th>\n",
       "      <th>Purchased</th>\n",
       "    </tr>\n",
       "  </thead>\n",
       "  <tbody>\n",
       "    <tr>\n",
       "      <th>0</th>\n",
       "      <td>19</td>\n",
       "      <td>19000</td>\n",
       "      <td>0</td>\n",
       "    </tr>\n",
       "    <tr>\n",
       "      <th>1</th>\n",
       "      <td>35</td>\n",
       "      <td>20000</td>\n",
       "      <td>0</td>\n",
       "    </tr>\n",
       "    <tr>\n",
       "      <th>2</th>\n",
       "      <td>26</td>\n",
       "      <td>43000</td>\n",
       "      <td>0</td>\n",
       "    </tr>\n",
       "    <tr>\n",
       "      <th>3</th>\n",
       "      <td>27</td>\n",
       "      <td>57000</td>\n",
       "      <td>0</td>\n",
       "    </tr>\n",
       "    <tr>\n",
       "      <th>4</th>\n",
       "      <td>19</td>\n",
       "      <td>76000</td>\n",
       "      <td>0</td>\n",
       "    </tr>\n",
       "    <tr>\n",
       "      <th>...</th>\n",
       "      <td>...</td>\n",
       "      <td>...</td>\n",
       "      <td>...</td>\n",
       "    </tr>\n",
       "    <tr>\n",
       "      <th>395</th>\n",
       "      <td>46</td>\n",
       "      <td>41000</td>\n",
       "      <td>1</td>\n",
       "    </tr>\n",
       "    <tr>\n",
       "      <th>396</th>\n",
       "      <td>51</td>\n",
       "      <td>23000</td>\n",
       "      <td>1</td>\n",
       "    </tr>\n",
       "    <tr>\n",
       "      <th>397</th>\n",
       "      <td>50</td>\n",
       "      <td>20000</td>\n",
       "      <td>1</td>\n",
       "    </tr>\n",
       "    <tr>\n",
       "      <th>398</th>\n",
       "      <td>36</td>\n",
       "      <td>33000</td>\n",
       "      <td>0</td>\n",
       "    </tr>\n",
       "    <tr>\n",
       "      <th>399</th>\n",
       "      <td>49</td>\n",
       "      <td>36000</td>\n",
       "      <td>1</td>\n",
       "    </tr>\n",
       "  </tbody>\n",
       "</table>\n",
       "<p>400 rows × 3 columns</p>\n",
       "</div>"
      ],
      "text/plain": [
       "     Age  EstimatedSalary  Purchased\n",
       "0     19            19000          0\n",
       "1     35            20000          0\n",
       "2     26            43000          0\n",
       "3     27            57000          0\n",
       "4     19            76000          0\n",
       "..   ...              ...        ...\n",
       "395   46            41000          1\n",
       "396   51            23000          1\n",
       "397   50            20000          1\n",
       "398   36            33000          0\n",
       "399   49            36000          1\n",
       "\n",
       "[400 rows x 3 columns]"
      ]
     },
     "execution_count": 2,
     "metadata": {},
     "output_type": "execute_result"
    }
   ],
   "source": [
    "data"
   ]
  },
  {
   "cell_type": "code",
   "execution_count": 3,
   "id": "658bc145",
   "metadata": {},
   "outputs": [],
   "source": [
    "# Select features\n",
    "\n",
    "X = data[[\"Age\", \"EstimatedSalary\"]]\n",
    "y = data[\"Purchased\"]"
   ]
  },
  {
   "cell_type": "code",
   "execution_count": 4,
   "id": "9dc8c4f8",
   "metadata": {},
   "outputs": [
    {
     "data": {
      "text/html": [
       "<div>\n",
       "<style scoped>\n",
       "    .dataframe tbody tr th:only-of-type {\n",
       "        vertical-align: middle;\n",
       "    }\n",
       "\n",
       "    .dataframe tbody tr th {\n",
       "        vertical-align: top;\n",
       "    }\n",
       "\n",
       "    .dataframe thead th {\n",
       "        text-align: right;\n",
       "    }\n",
       "</style>\n",
       "<table border=\"1\" class=\"dataframe\">\n",
       "  <thead>\n",
       "    <tr style=\"text-align: right;\">\n",
       "      <th></th>\n",
       "      <th>Age</th>\n",
       "      <th>EstimatedSalary</th>\n",
       "    </tr>\n",
       "  </thead>\n",
       "  <tbody>\n",
       "    <tr>\n",
       "      <th>0</th>\n",
       "      <td>19</td>\n",
       "      <td>19000</td>\n",
       "    </tr>\n",
       "    <tr>\n",
       "      <th>1</th>\n",
       "      <td>35</td>\n",
       "      <td>20000</td>\n",
       "    </tr>\n",
       "    <tr>\n",
       "      <th>2</th>\n",
       "      <td>26</td>\n",
       "      <td>43000</td>\n",
       "    </tr>\n",
       "    <tr>\n",
       "      <th>3</th>\n",
       "      <td>27</td>\n",
       "      <td>57000</td>\n",
       "    </tr>\n",
       "    <tr>\n",
       "      <th>4</th>\n",
       "      <td>19</td>\n",
       "      <td>76000</td>\n",
       "    </tr>\n",
       "    <tr>\n",
       "      <th>...</th>\n",
       "      <td>...</td>\n",
       "      <td>...</td>\n",
       "    </tr>\n",
       "    <tr>\n",
       "      <th>395</th>\n",
       "      <td>46</td>\n",
       "      <td>41000</td>\n",
       "    </tr>\n",
       "    <tr>\n",
       "      <th>396</th>\n",
       "      <td>51</td>\n",
       "      <td>23000</td>\n",
       "    </tr>\n",
       "    <tr>\n",
       "      <th>397</th>\n",
       "      <td>50</td>\n",
       "      <td>20000</td>\n",
       "    </tr>\n",
       "    <tr>\n",
       "      <th>398</th>\n",
       "      <td>36</td>\n",
       "      <td>33000</td>\n",
       "    </tr>\n",
       "    <tr>\n",
       "      <th>399</th>\n",
       "      <td>49</td>\n",
       "      <td>36000</td>\n",
       "    </tr>\n",
       "  </tbody>\n",
       "</table>\n",
       "<p>400 rows × 2 columns</p>\n",
       "</div>"
      ],
      "text/plain": [
       "     Age  EstimatedSalary\n",
       "0     19            19000\n",
       "1     35            20000\n",
       "2     26            43000\n",
       "3     27            57000\n",
       "4     19            76000\n",
       "..   ...              ...\n",
       "395   46            41000\n",
       "396   51            23000\n",
       "397   50            20000\n",
       "398   36            33000\n",
       "399   49            36000\n",
       "\n",
       "[400 rows x 2 columns]"
      ]
     },
     "execution_count": 4,
     "metadata": {},
     "output_type": "execute_result"
    }
   ],
   "source": [
    "X"
   ]
  },
  {
   "cell_type": "code",
   "execution_count": 5,
   "id": "d680ed1b",
   "metadata": {},
   "outputs": [
    {
     "data": {
      "text/plain": [
       "0      0\n",
       "1      0\n",
       "2      0\n",
       "3      0\n",
       "4      0\n",
       "      ..\n",
       "395    1\n",
       "396    1\n",
       "397    1\n",
       "398    0\n",
       "399    1\n",
       "Name: Purchased, Length: 400, dtype: int64"
      ]
     },
     "execution_count": 5,
     "metadata": {},
     "output_type": "execute_result"
    }
   ],
   "source": [
    "y"
   ]
  },
  {
   "cell_type": "code",
   "execution_count": 6,
   "id": "794a5fca",
   "metadata": {},
   "outputs": [],
   "source": [
    "preprocessor = ColumnTransformer(\n",
    "    transformers=[\n",
    "        ('num', StandardScaler(), ['Age', 'EstimatedSalary'])\n",
    "    ])\n"
   ]
  },
  {
   "cell_type": "code",
   "execution_count": 7,
   "id": "b99e2df9",
   "metadata": {},
   "outputs": [],
   "source": [
    "transformed_data = preprocessor.fit_transform(data)"
   ]
  },
  {
   "cell_type": "code",
   "execution_count": 8,
   "id": "e3502ead",
   "metadata": {},
   "outputs": [],
   "source": [
    "df_transformed = pd.DataFrame(transformed_data, columns=preprocessor.get_feature_names_out())\n"
   ]
  },
  {
   "cell_type": "code",
   "execution_count": 9,
   "id": "47259994",
   "metadata": {},
   "outputs": [
    {
     "data": {
      "text/html": [
       "<div>\n",
       "<style scoped>\n",
       "    .dataframe tbody tr th:only-of-type {\n",
       "        vertical-align: middle;\n",
       "    }\n",
       "\n",
       "    .dataframe tbody tr th {\n",
       "        vertical-align: top;\n",
       "    }\n",
       "\n",
       "    .dataframe thead th {\n",
       "        text-align: right;\n",
       "    }\n",
       "</style>\n",
       "<table border=\"1\" class=\"dataframe\">\n",
       "  <thead>\n",
       "    <tr style=\"text-align: right;\">\n",
       "      <th></th>\n",
       "      <th>num__Age</th>\n",
       "      <th>num__EstimatedSalary</th>\n",
       "    </tr>\n",
       "  </thead>\n",
       "  <tbody>\n",
       "    <tr>\n",
       "      <th>0</th>\n",
       "      <td>-1.781797</td>\n",
       "      <td>-1.490046</td>\n",
       "    </tr>\n",
       "    <tr>\n",
       "      <th>1</th>\n",
       "      <td>-0.253587</td>\n",
       "      <td>-1.460681</td>\n",
       "    </tr>\n",
       "    <tr>\n",
       "      <th>2</th>\n",
       "      <td>-1.113206</td>\n",
       "      <td>-0.785290</td>\n",
       "    </tr>\n",
       "    <tr>\n",
       "      <th>3</th>\n",
       "      <td>-1.017692</td>\n",
       "      <td>-0.374182</td>\n",
       "    </tr>\n",
       "    <tr>\n",
       "      <th>4</th>\n",
       "      <td>-1.781797</td>\n",
       "      <td>0.183751</td>\n",
       "    </tr>\n",
       "    <tr>\n",
       "      <th>...</th>\n",
       "      <td>...</td>\n",
       "      <td>...</td>\n",
       "    </tr>\n",
       "    <tr>\n",
       "      <th>395</th>\n",
       "      <td>0.797057</td>\n",
       "      <td>-0.844019</td>\n",
       "    </tr>\n",
       "    <tr>\n",
       "      <th>396</th>\n",
       "      <td>1.274623</td>\n",
       "      <td>-1.372587</td>\n",
       "    </tr>\n",
       "    <tr>\n",
       "      <th>397</th>\n",
       "      <td>1.179110</td>\n",
       "      <td>-1.460681</td>\n",
       "    </tr>\n",
       "    <tr>\n",
       "      <th>398</th>\n",
       "      <td>-0.158074</td>\n",
       "      <td>-1.078938</td>\n",
       "    </tr>\n",
       "    <tr>\n",
       "      <th>399</th>\n",
       "      <td>1.083596</td>\n",
       "      <td>-0.990844</td>\n",
       "    </tr>\n",
       "  </tbody>\n",
       "</table>\n",
       "<p>400 rows × 2 columns</p>\n",
       "</div>"
      ],
      "text/plain": [
       "     num__Age  num__EstimatedSalary\n",
       "0   -1.781797             -1.490046\n",
       "1   -0.253587             -1.460681\n",
       "2   -1.113206             -0.785290\n",
       "3   -1.017692             -0.374182\n",
       "4   -1.781797              0.183751\n",
       "..        ...                   ...\n",
       "395  0.797057             -0.844019\n",
       "396  1.274623             -1.372587\n",
       "397  1.179110             -1.460681\n",
       "398 -0.158074             -1.078938\n",
       "399  1.083596             -0.990844\n",
       "\n",
       "[400 rows x 2 columns]"
      ]
     },
     "execution_count": 9,
     "metadata": {},
     "output_type": "execute_result"
    }
   ],
   "source": [
    "df_transformed"
   ]
  },
  {
   "cell_type": "code",
   "execution_count": 10,
   "id": "429a7d9f",
   "metadata": {},
   "outputs": [],
   "source": [
    "# Create a pipeline\n",
    "lr_model = Pipeline([\n",
    "    ('preprocessor', preprocessor),\n",
    "    ('classifier', LogisticRegression()),\n",
    "])\n",
    "\n",
    "# Split into train and test sets\n",
    "X_train, X_test, y_train, y_test = train_test_split(X, y, test_size=0.2, random_state=42)\n",
    "\n",
    "lr_model.fit(X_train, y_train)\n",
    "\n",
    "y_pred = lr_model.predict(X_test)\n",
    "y_proba = lr_model.predict_proba(X_test)[:, 1]\n"
   ]
  },
  {
   "cell_type": "code",
   "execution_count": 11,
   "id": "5fcd3965",
   "metadata": {},
   "outputs": [
    {
     "name": "stdout",
     "output_type": "stream",
     "text": [
      "\n",
      "Evaluation Metrics:\n",
      "Accuracy: 0.8625\n",
      "ROC AUC: 0.9684\n",
      "\n",
      "Confusion Matrix:\n",
      "[[50  2]\n",
      " [ 9 19]]\n",
      "\n",
      "Classification Report:\n",
      "{'0': {'precision': 0.847457627118644, 'recall': 0.9615384615384616, 'f1-score': 0.9009009009009009, 'support': 52.0}, '1': {'precision': 0.9047619047619048, 'recall': 0.6785714285714286, 'f1-score': 0.7755102040816326, 'support': 28.0}, 'accuracy': 0.8625, 'macro avg': {'precision': 0.8761097659402743, 'recall': 0.820054945054945, 'f1-score': 0.8382055524912668, 'support': 80.0}, 'weighted avg': {'precision': 0.8675141242937853, 'recall': 0.8625, 'f1-score': 0.857014157014157, 'support': 80.0}}\n"
     ]
    }
   ],
   "source": [
    "from sklearn.metrics import accuracy_score, roc_auc_score, confusion_matrix, classification_report\n",
    "\n",
    "lr_accuracy = accuracy_score(y_test, y_pred)\n",
    "lr_auc = roc_auc_score(y_test, y_proba)\n",
    "lr_confusion_matrix = confusion_matrix(y_test, y_pred)\n",
    "lr_classification_report = classification_report(y_test, y_pred, output_dict=True)\n",
    "\n",
    "print(\"\\nEvaluation Metrics:\")\n",
    "print(f\"Accuracy: {lr_accuracy:.4f}\")\n",
    "print(f\"ROC AUC: {lr_auc:.4f}\")\n",
    "print(\"\\nConfusion Matrix:\")\n",
    "print(lr_confusion_matrix)\n",
    "print(\"\\nClassification Report:\")\n",
    "print(lr_classification_report)"
   ]
  },
  {
   "cell_type": "code",
   "execution_count": 12,
   "id": "054f4df0",
   "metadata": {},
   "outputs": [
    {
     "name": "stdout",
     "output_type": "stream",
     "text": [
      "                Feature  Coefficient\n",
      "0              num__Age     1.965098\n",
      "1  num__EstimatedSalary     1.135090\n"
     ]
    }
   ],
   "source": [
    "# Model interpretation\n",
    "\n",
    "# Get feature names (after preprocessing)\n",
    "feature_names = preprocessor.get_feature_names_out()\n",
    "\n",
    "# Create a DataFrame of coefficients\n",
    "coef_df = pd.DataFrame({\n",
    "    'Feature': feature_names,\n",
    "    'Coefficient': lr_model.named_steps['classifier'].coef_[0]  # LogisticRegression coefficients\n",
    "})\n",
    "\n",
    "print(coef_df)"
   ]
  },
  {
   "cell_type": "code",
   "execution_count": 13,
   "id": "0ec570ea",
   "metadata": {},
   "outputs": [],
   "source": [
    "# from sklearn.linear_model import RandomForestClassifier\n",
    "from sklearn.ensemble import RandomForestClassifier\n",
    "\n",
    "#Now do random forest classifier\n",
    "# Create a pipeline\n",
    "rf_model = Pipeline([\n",
    "    ('preprocessor', preprocessor),\n",
    "    ('classifier', RandomForestClassifier()),\n",
    "])\n",
    "\n",
    "# # Split into train and test sets\n",
    "# X_train, X_test, y_train, y_test = train_test_split(X, y, test_size=0.2, random_state=42)\n",
    "\n",
    "rf_model.fit(X_train, y_train)\n",
    "\n",
    "y_pred = rf_model.predict(X_test)\n",
    "y_proba = rf_model.predict_proba(X_test)[:, 1]"
   ]
  },
  {
   "cell_type": "code",
   "execution_count": 14,
   "id": "ea81f700",
   "metadata": {},
   "outputs": [
    {
     "name": "stdout",
     "output_type": "stream",
     "text": [
      "\n",
      "Evaluation Metrics:\n",
      "Accuracy: 0.8875\n",
      "ROC AUC: 0.9502\n",
      "\n",
      "Confusion Matrix:\n",
      "[[46  6]\n",
      " [ 3 25]]\n",
      "\n",
      "Classification Report:\n",
      "{'0': {'precision': 0.9387755102040817, 'recall': 0.8846153846153846, 'f1-score': 0.9108910891089109, 'support': 52.0}, '1': {'precision': 0.8064516129032258, 'recall': 0.8928571428571429, 'f1-score': 0.847457627118644, 'support': 28.0}, 'accuracy': 0.8875, 'macro avg': {'precision': 0.8726135615536537, 'recall': 0.8887362637362637, 'f1-score': 0.8791743581137774, 'support': 80.0}, 'weighted avg': {'precision': 0.892462146148782, 'recall': 0.8875, 'f1-score': 0.8886893774123175, 'support': 80.0}}\n"
     ]
    }
   ],
   "source": [
    "rf_accuracy = accuracy_score(y_test, y_pred)\n",
    "rf_auc = roc_auc_score(y_test, y_proba)\n",
    "rf_confusion_matrix = confusion_matrix(y_test, y_pred)\n",
    "rf_classification_report = classification_report(y_test, y_pred, output_dict=True)\n",
    "\n",
    "print(\"\\nEvaluation Metrics:\")\n",
    "print(f\"Accuracy: {rf_accuracy:.4f}\")\n",
    "print(f\"ROC AUC: {rf_auc:.4f}\")\n",
    "print(\"\\nConfusion Matrix:\")\n",
    "print(rf_confusion_matrix)\n",
    "print(\"\\nClassification Report:\")\n",
    "print(rf_classification_report)"
   ]
  },
  {
   "cell_type": "code",
   "execution_count": null,
   "id": "de03f1fc",
   "metadata": {},
   "outputs": [
    {
     "name": "stderr",
     "output_type": "stream",
     "text": [
      "c:\\Users\\manal\\GIT\\predict_purchase\\venv\\Lib\\site-packages\\xgboost\\training.py:183: UserWarning: [11:36:40] WARNING: C:\\actions-runner\\_work\\xgboost\\xgboost\\src\\learner.cc:738: \n",
      "Parameters: { \"use_label_encoder\" } are not used.\n",
      "\n",
      "  bst.update(dtrain, iteration=i, fobj=obj)\n"
     ]
    }
   ],
   "source": [
    "import xgboost as xgb\n",
    "\n",
    "#Now do XGBoost\n",
    "\n",
    "\n",
    "# # Split into train and test sets\n",
    "X_processed = preprocessor.fit_transform(X)\n",
    "\n",
    "# Split data\n",
    "X_train, X_test, y_train, y_test = train_test_split(X_processed, y, test_size=0.2, random_state=42)\n",
    "\n",
    "xgb_model = xgb.XGBClassifier(\n",
    "    objective='binary:logistic',  # Output probabilities\n",
    "    eval_metric='logloss',        # Logarithmic loss for binary classification\n",
    "    use_label_encoder=False,\n",
    "    random_state=42\n",
    ")\n",
    "\n",
    "xgb_model.fit(X_train, y_train)\n",
    "\n",
    "y_pred = xgb_model.predict(X_test)\n",
    "y_proba = xgb_model.predict_proba(X_test)[:, 1]"
   ]
  },
  {
   "cell_type": "code",
   "execution_count": 16,
   "id": "52e78999",
   "metadata": {},
   "outputs": [
    {
     "name": "stdout",
     "output_type": "stream",
     "text": [
      "\n",
      "Evaluation Metrics:\n",
      "Accuracy: 0.9000\n",
      "ROC AUC: 0.9533\n",
      "\n",
      "Confusion Matrix:\n",
      "[[46  6]\n",
      " [ 2 26]]\n",
      "\n",
      "Classification Report:\n",
      "{'0': {'precision': 0.9583333333333334, 'recall': 0.8846153846153846, 'f1-score': 0.92, 'support': 52.0}, '1': {'precision': 0.8125, 'recall': 0.9285714285714286, 'f1-score': 0.8666666666666667, 'support': 28.0}, 'accuracy': 0.9, 'macro avg': {'precision': 0.8854166666666667, 'recall': 0.9065934065934066, 'f1-score': 0.8933333333333333, 'support': 80.0}, 'weighted avg': {'precision': 0.9072916666666668, 'recall': 0.9, 'f1-score': 0.9013333333333333, 'support': 80.0}}\n"
     ]
    }
   ],
   "source": [
    "xgb_accuracy = accuracy_score(y_test, y_pred)\n",
    "xgb_auc = roc_auc_score(y_test, y_proba)\n",
    "xgb_confusion_matrix = confusion_matrix(y_test, y_pred)\n",
    "xgb_classification_report = classification_report(y_test, y_pred, output_dict=True)\n",
    "\n",
    "print(\"\\nEvaluation Metrics:\")\n",
    "print(f\"Accuracy: {xgb_accuracy:.4f}\")\n",
    "print(f\"ROC AUC: {xgb_auc:.4f}\")\n",
    "print(\"\\nConfusion Matrix:\")\n",
    "print(xgb_confusion_matrix)\n",
    "print(\"\\nClassification Report:\")\n",
    "print(xgb_classification_report)"
   ]
  },
  {
   "cell_type": "code",
   "execution_count": null,
   "id": "a2523024",
   "metadata": {},
   "outputs": [],
   "source": [
    "# Now to SVM\n",
    "\n",
    "from sklearn.svm import SVC\n",
    "\n",
    "svm_model = SVC(\n",
    "    kernel='rbf',  # Radial Basis Function (for non-linear problems)\n",
    "    C=1.0,         # Regularization parameter\n",
    "    probability=True,  # Required for probability estimates\n",
    "    random_state=42\n",
    ")\n",
    "\n",
    "svm_model.fit(X_train, y_train)\n",
    "\n",
    "y_pred = svm_model.predict(X_test)\n",
    "y_proba = svm_model.predict_proba(X_test)[:, 1]"
   ]
  },
  {
   "cell_type": "code",
   "execution_count": 18,
   "id": "1bd9d6de",
   "metadata": {},
   "outputs": [
    {
     "name": "stdout",
     "output_type": "stream",
     "text": [
      "\n",
      "Evaluation Metrics:\n",
      "Accuracy: 0.9250\n",
      "ROC AUC: 0.9691\n",
      "\n",
      "Confusion Matrix:\n",
      "[[47  5]\n",
      " [ 1 27]]\n",
      "\n",
      "Classification Report:\n",
      "{'0': {'precision': 0.9791666666666666, 'recall': 0.9038461538461539, 'f1-score': 0.94, 'support': 52.0}, '1': {'precision': 0.84375, 'recall': 0.9642857142857143, 'f1-score': 0.9, 'support': 28.0}, 'accuracy': 0.925, 'macro avg': {'precision': 0.9114583333333333, 'recall': 0.9340659340659341, 'f1-score': 0.9199999999999999, 'support': 80.0}, 'weighted avg': {'precision': 0.9317708333333332, 'recall': 0.925, 'f1-score': 0.9259999999999999, 'support': 80.0}}\n"
     ]
    }
   ],
   "source": [
    "svm_accuracy = accuracy_score(y_test, y_pred)\n",
    "svm_auc = roc_auc_score(y_test, y_proba)\n",
    "svm_confusion_matrix = confusion_matrix(y_test, y_pred)\n",
    "svm_classification_report = classification_report(y_test, y_pred, output_dict=True)\n",
    "\n",
    "print(\"\\nEvaluation Metrics:\")\n",
    "print(f\"Accuracy: {svm_accuracy:.4f}\")\n",
    "print(f\"ROC AUC: {svm_auc:.4f}\")\n",
    "print(\"\\nConfusion Matrix:\")\n",
    "print(svm_confusion_matrix)\n",
    "print(\"\\nClassification Report:\")\n",
    "print(svm_classification_report)"
   ]
  },
  {
   "cell_type": "code",
   "execution_count": 19,
   "id": "aac28ec9",
   "metadata": {},
   "outputs": [
    {
     "data": {
      "image/png": "[encoded data removed]",
      "text/plain": [
       "<Figure size 640x480 with 1 Axes>"
      ]
     },
     "metadata": {},
     "output_type": "display_data"
    }
   ],
   "source": [
    "import matplotlib.pyplot as plt\n",
    "\n",
    "# Define the ROC AUC scores\n",
    "models = ['Logistic Regression', 'SVM', 'Random Forest', 'XGBoost']\n",
    "roc_auc_scores = [lr_auc, svm_auc, rf_auc, xgb_auc]\n",
    "\n",
    "# Plot the histogram\n",
    "plt.bar(models, roc_auc_scores, color=['blue', 'green', 'orange', 'red'])\n",
    "plt.xlabel('Models')\n",
    "plt.ylabel('ROC AUC Score')\n",
    "plt.title('Comparison of ROC AUC Scores')\n",
    "plt.ylim(0.0, 1.0)  # Set y-axis limits to reflect ROC AUC range\n",
    "plt.show()"
   ]
  },
  {
   "cell_type": "code",
   "execution_count": 22,
   "id": "64e75517",
   "metadata": {},
   "outputs": [
    {
     "data": {
      "text/plain": [
       "0.925"
      ]
     },
     "execution_count": 22,
     "metadata": {},
     "output_type": "execute_result"
    }
   ],
   "source": [
    "svm_classification_report['accuracy']"
   ]
  },
  {
   "cell_type": "code",
   "execution_count": 28,
   "id": "4936d313",
   "metadata": {},
   "outputs": [
    {
     "data": {
      "image/png": "[encoded data removed]",
      "text/plain": [
       "<Figure size 1000x600 with 1 Axes>"
      ]
     },
     "metadata": {},
     "output_type": "display_data"
    }
   ],
   "source": [
    "models = ['Logistic Regression', 'SVM', 'Random Forest', 'XGBoost']\n",
    "metrics = ['ROC AUC', 'Accuracy', 'Precision', 'Recall', 'F1 Score']\n",
    "\n",
    "# Collect the metrics for each model\n",
    "lr_metrics = [lr_auc, lr_accuracy, lr_classification_report['1']['precision'], lr_classification_report['1']['recall'], lr_classification_report['1']['f1-score']]\n",
    "svm_metrics = [svm_auc, svm_accuracy, svm_classification_report['1']['precision'], svm_classification_report['1']['recall'], svm_classification_report['1']['f1-score']]\n",
    "rf_metrics = [rf_auc, rf_accuracy, rf_classification_report['1']['precision'], rf_classification_report['1']['recall'], rf_classification_report['1']['f1-score']]\n",
    "xgb_metrics = [xgb_auc, xgb_accuracy, xgb_classification_report['1']['precision'], xgb_classification_report['1']['recall'], xgb_classification_report['1']['f1-score']]\n",
    "\n",
    "# Combine all metrics\n",
    "all_metrics = [lr_metrics, svm_metrics, rf_metrics, xgb_metrics]\n",
    "\n",
    "# Set up the bar chart\n",
    "x = np.arange(len(models))  # the label locations\n",
    "width = 0.15  # the width of the bars\n",
    "\n",
    "fig, ax = plt.subplots(figsize=(10, 6))\n",
    "\n",
    "# Plot each metric as a separate bar group\n",
    "for i, metric in enumerate(metrics):\n",
    "    ax.bar(x + i * width, [m[i] for m in all_metrics], width, label=metric)\n",
    "\n",
    "# Add labels, title, and legend\n",
    "ax.set_xlabel('Models')\n",
    "ax.set_ylabel('Scores')\n",
    "ax.set_title('Comparison of Metrics Across Models')\n",
    "ax.set_xticks(x + width * (len(metrics) - 1) / 2)\n",
    "ax.set_xticklabels(models)\n",
    "ax.legend(title='Metrics')\n",
    "\n",
    "ax.set_ylim(0.60,1.0)\n",
    "\n",
    "plt.tight_layout()\n",
    "plt.show()"
   ]
  },
  {
   "cell_type": "markdown",
   "id": "1c6c7bd7",
   "metadata": {},
   "source": [
    "We see from the plot above that SVM is the best model since it scores the highest in all of the metrics."
   ]
  }
 ],
 "metadata": {
  "kernelspec": {
   "display_name": "venv",
   "language": "python",
   "name": "python3"
  },
  "language_info": {
   "codemirror_mode": {
    "name": "ipython",
    "version": 3
   },
   "file_extension": ".py",
   "mimetype": "text/x-python",
   "name": "python",
   "nbconvert_exporter": "python",
   "pygments_lexer": "ipython3",
   "version": "3.12.6"
  }
 },
 "nbformat": 4,
 "nbformat_minor": 5
}
